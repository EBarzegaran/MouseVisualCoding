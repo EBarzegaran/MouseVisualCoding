{
 "cells": [
  {
   "cell_type": "markdown",
   "metadata": {},
   "source": [
    "## Initialize"
   ]
  },
  {
   "cell_type": "code",
   "execution_count": 1,
   "metadata": {},
   "outputs": [],
   "source": [
    "import os\n",
    "import shutil\n",
    "\n",
    "import numpy as np\n",
    "import pandas as pd\n",
    "\n",
    "from allensdk.brain_observatory.ecephys.ecephys_project_cache import EcephysProjectCache"
   ]
  },
  {
   "cell_type": "markdown",
   "metadata": {},
   "source": [
    "### Target and LFP directory"
   ]
  },
  {
   "cell_type": "code",
   "execution_count": 3,
   "metadata": {},
   "outputs": [],
   "source": [
    "data_directory =\"example_ecephys_project_cache\" # must be updated to a valid directory in your filesystem\n",
    "\n",
    "manifest_path = os.path.join(data_directory, \"manifest.json\")\n",
    "\n",
    "LFP_directory = \"E:\\Elham\\Data\\AllenBrain\\example_ecephys_project_cache\\LFP\"\n"
   ]
  },
  {
   "cell_type": "code",
   "execution_count": 12,
   "metadata": {},
   "outputs": [
    {
     "data": {
      "text/plain": [
       "True"
      ]
     },
     "execution_count": 12,
     "metadata": {},
     "output_type": "execute_result"
    }
   ],
   "source": [
    "os.path.exists(LFP_directory)"
   ]
  },
  {
   "cell_type": "markdown",
   "metadata": {},
   "source": [
    "### Read session IDs and their probe IDs"
   ]
  },
  {
   "cell_type": "code",
   "execution_count": 14,
   "metadata": {},
   "outputs": [],
   "source": [
    "cache = EcephysProjectCache.from_warehouse(manifest=manifest_path)\n",
    "sessions = cache.get_session_table()"
   ]
  },
  {
   "cell_type": "code",
   "execution_count": 15,
   "metadata": {},
   "outputs": [],
   "source": [
    "Filtered_sessions = sessions[(sessions.full_genotype=='wt/wt') & \\\n",
    "                             (sessions.session_type == 'brain_observatory_1.1') & \\\n",
    "                             (['VISp' in acronyms for acronyms in \n",
    "                               sessions.ecephys_structure_acronyms])]"
   ]
  },
  {
   "cell_type": "code",
   "execution_count": 16,
   "metadata": {},
   "outputs": [],
   "source": [
    "probes = cache.get_probes()"
   ]
  },
  {
   "cell_type": "markdown",
   "metadata": {},
   "source": [
    "### Download the files"
   ]
  },
  {
   "cell_type": "code",
   "execution_count": 20,
   "metadata": {},
   "outputs": [],
   "source": [
    "from allensdk.brain_observatory.ecephys.ecephys_project_api.utilities import build_and_execute\n",
    "from allensdk.brain_observatory.ecephys.ecephys_project_api.rma_engine import RmaEngine\n",
    "from allensdk.brain_observatory.ecephys.ecephys_project_cache import EcephysProjectCache\n",
    "\n",
    "rma_engine = RmaEngine(scheme=\"http\", host=\"api.brain-map.org\")"
   ]
  },
  {
   "cell_type": "markdown",
   "metadata": {},
   "source": [
    "First download the sessions"
   ]
  },
  {
   "cell_type": "code",
   "execution_count": 21,
   "metadata": {},
   "outputs": [],
   "source": [
    "def retrieve_link(session_id):\n",
    "    \n",
    "    well_known_files = build_and_execute(\n",
    "        (\n",
    "        \"criteria=model::WellKnownFile\"\n",
    "        \",rma::criteria,well_known_file_type[name$eq'EcephysNwb']\"\n",
    "        \"[attachable_type$eq'EcephysSession']\"\n",
    "        r\"[attachable_id$eq{{session_id}}]\"\n",
    "        ),\n",
    "        engine=rma_engine.get_rma_tabular, \n",
    "        session_id=session_id\n",
    "    )\n",
    "    \n",
    "    return 'http://api.brain-map.org/' + well_known_files['download_link'].iloc[0]\n",
    "\n",
    "download_links = [retrieve_link(session_id) for session_id in Filtered_sessions.index.values]"
   ]
  },
  {
   "cell_type": "code",
   "execution_count": 26,
   "metadata": {},
   "outputs": [
    {
     "name": "stdout",
     "output_type": "stream",
     "text": [
      "http://api.brain-map.org//api/v2/well_known_file_download/1026123599\n",
      "http://api.brain-map.org//api/v2/well_known_file_download/1026123989\n",
      "http://api.brain-map.org//api/v2/well_known_file_download/1026123897\n",
      "http://api.brain-map.org//api/v2/well_known_file_download/1026123964\n",
      "http://api.brain-map.org//api/v2/well_known_file_download/1026124068\n",
      "http://api.brain-map.org//api/v2/well_known_file_download/1026124429\n",
      "http://api.brain-map.org//api/v2/well_known_file_download/1026124724\n",
      "http://api.brain-map.org//api/v2/well_known_file_download/1026124242\n",
      "http://api.brain-map.org//api/v2/well_known_file_download/1026123537\n",
      "http://api.brain-map.org//api/v2/well_known_file_download/1026124326\n",
      "http://api.brain-map.org//api/v2/well_known_file_download/1026124603\n",
      "http://api.brain-map.org//api/v2/well_known_file_download/1026123685\n",
      "http://api.brain-map.org//api/v2/well_known_file_download/1026123377\n",
      "http://api.brain-map.org//api/v2/well_known_file_download/1026124793\n",
      "http://api.brain-map.org//api/v2/well_known_file_download/1026124500\n",
      "http://api.brain-map.org//api/v2/well_known_file_download/1026125021\n"
     ]
    }
   ],
   "source": [
    "_ = [print(link) for link in download_links]"
   ]
  },
  {
   "cell_type": "code",
   "execution_count": null,
   "metadata": {},
   "outputs": [],
   "source": [
    "import requests\n",
    "r = requests.get(download_links[1])"
   ]
  },
  {
   "cell_type": "markdown",
   "metadata": {},
   "source": [
    "You should first download these and organize the folders. Can be added later."
   ]
  },
  {
   "cell_type": "code",
   "execution_count": 28,
   "metadata": {},
   "outputs": [
    {
     "name": "stdout",
     "output_type": "stream",
     "text": [
      "http://api.brain-map.org//api/v2/well_known_file_download/1026123601\n",
      "http://api.brain-map.org//api/v2/well_known_file_download/1026123603\n",
      "http://api.brain-map.org//api/v2/well_known_file_download/1026123605\n",
      "http://api.brain-map.org//api/v2/well_known_file_download/1026123607\n",
      "http://api.brain-map.org//api/v2/well_known_file_download/1026123609\n",
      "http://api.brain-map.org//api/v2/well_known_file_download/1026123539\n",
      "http://api.brain-map.org//api/v2/well_known_file_download/1026123543\n",
      "http://api.brain-map.org//api/v2/well_known_file_download/1026123550\n",
      "http://api.brain-map.org//api/v2/well_known_file_download/1026123546\n",
      "http://api.brain-map.org//api/v2/well_known_file_download/1026123541\n",
      "http://api.brain-map.org//api/v2/well_known_file_download/1026123548\n",
      "http://api.brain-map.org//api/v2/well_known_file_download/1026124433\n",
      "http://api.brain-map.org//api/v2/well_known_file_download/1026124436\n",
      "http://api.brain-map.org//api/v2/well_known_file_download/1026124439\n",
      "http://api.brain-map.org//api/v2/well_known_file_download/1026124442\n",
      "http://api.brain-map.org//api/v2/well_known_file_download/1026124446\n",
      "http://api.brain-map.org//api/v2/well_known_file_download/1026124448\n",
      "http://api.brain-map.org//api/v2/well_known_file_download/1026124728\n",
      "http://api.brain-map.org//api/v2/well_known_file_download/1026124726\n",
      "http://api.brain-map.org//api/v2/well_known_file_download/1026124730\n",
      "http://api.brain-map.org//api/v2/well_known_file_download/1026124732\n",
      "http://api.brain-map.org//api/v2/well_known_file_download/1026124737\n",
      "http://api.brain-map.org//api/v2/well_known_file_download/1026124735\n",
      "http://api.brain-map.org//api/v2/well_known_file_download/1026123901\n",
      "http://api.brain-map.org//api/v2/well_known_file_download/1026123909\n",
      "http://api.brain-map.org//api/v2/well_known_file_download/1026123907\n",
      "http://api.brain-map.org//api/v2/well_known_file_download/1026123905\n",
      "http://api.brain-map.org//api/v2/well_known_file_download/1026123903\n",
      "http://api.brain-map.org//api/v2/well_known_file_download/1026123899\n",
      "http://api.brain-map.org//api/v2/well_known_file_download/1026123993\n",
      "http://api.brain-map.org//api/v2/well_known_file_download/1026123997\n",
      "http://api.brain-map.org//api/v2/well_known_file_download/1026124001\n",
      "http://api.brain-map.org//api/v2/well_known_file_download/1026123999\n",
      "http://api.brain-map.org//api/v2/well_known_file_download/1026123995\n",
      "http://api.brain-map.org//api/v2/well_known_file_download/1026123991\n",
      "http://api.brain-map.org//api/v2/well_known_file_download/1026124330\n",
      "http://api.brain-map.org//api/v2/well_known_file_download/1026124334\n",
      "http://api.brain-map.org//api/v2/well_known_file_download/1026124337\n",
      "http://api.brain-map.org//api/v2/well_known_file_download/1026124332\n",
      "http://api.brain-map.org//api/v2/well_known_file_download/1026124328\n",
      "http://api.brain-map.org//api/v2/well_known_file_download/1026124803\n",
      "http://api.brain-map.org//api/v2/well_known_file_download/1026124799\n",
      "http://api.brain-map.org//api/v2/well_known_file_download/1026124795\n",
      "http://api.brain-map.org//api/v2/well_known_file_download/1026124801\n",
      "http://api.brain-map.org//api/v2/well_known_file_download/1026124797\n",
      "http://api.brain-map.org//api/v2/well_known_file_download/1026124806\n",
      "http://api.brain-map.org//api/v2/well_known_file_download/1026123975\n",
      "http://api.brain-map.org//api/v2/well_known_file_download/1026123978\n",
      "http://api.brain-map.org//api/v2/well_known_file_download/1026123973\n",
      "http://api.brain-map.org//api/v2/well_known_file_download/1026123966\n",
      "http://api.brain-map.org//api/v2/well_known_file_download/1026123971\n",
      "http://api.brain-map.org//api/v2/well_known_file_download/1026123969\n",
      "http://api.brain-map.org//api/v2/well_known_file_download/1026124614\n",
      "http://api.brain-map.org//api/v2/well_known_file_download/1026124612\n",
      "http://api.brain-map.org//api/v2/well_known_file_download/1026124616\n",
      "http://api.brain-map.org//api/v2/well_known_file_download/1026124610\n",
      "http://api.brain-map.org//api/v2/well_known_file_download/1026124607\n",
      "http://api.brain-map.org//api/v2/well_known_file_download/1026124605\n",
      "http://api.brain-map.org//api/v2/well_known_file_download/1026123385\n",
      "http://api.brain-map.org//api/v2/well_known_file_download/1026123383\n",
      "http://api.brain-map.org//api/v2/well_known_file_download/1026123379\n",
      "http://api.brain-map.org//api/v2/well_known_file_download/1026123381\n",
      "http://api.brain-map.org//api/v2/well_known_file_download/1026124248\n",
      "http://api.brain-map.org//api/v2/well_known_file_download/1026124246\n",
      "http://api.brain-map.org//api/v2/well_known_file_download/1026124252\n",
      "http://api.brain-map.org//api/v2/well_known_file_download/1026124250\n",
      "http://api.brain-map.org//api/v2/well_known_file_download/1026124254\n",
      "http://api.brain-map.org//api/v2/well_known_file_download/1026124244\n",
      "http://api.brain-map.org//api/v2/well_known_file_download/1026123691\n",
      "http://api.brain-map.org//api/v2/well_known_file_download/1026123695\n",
      "http://api.brain-map.org//api/v2/well_known_file_download/1026123693\n",
      "http://api.brain-map.org//api/v2/well_known_file_download/1026123689\n",
      "http://api.brain-map.org//api/v2/well_known_file_download/1026123687\n",
      "http://api.brain-map.org//api/v2/well_known_file_download/1026124073\n",
      "http://api.brain-map.org//api/v2/well_known_file_download/1026124075\n",
      "http://api.brain-map.org//api/v2/well_known_file_download/1026124071\n",
      "http://api.brain-map.org//api/v2/well_known_file_download/1026124082\n",
      "http://api.brain-map.org//api/v2/well_known_file_download/1026124079\n",
      "http://api.brain-map.org//api/v2/well_known_file_download/1026124077\n",
      "http://api.brain-map.org//api/v2/well_known_file_download/1026124507\n",
      "http://api.brain-map.org//api/v2/well_known_file_download/1026124504\n",
      "http://api.brain-map.org//api/v2/well_known_file_download/1026124502\n",
      "http://api.brain-map.org//api/v2/well_known_file_download/1026124509\n",
      "file for probe 773463023 not found\n",
      "http://api.brain-map.org//api/v2/well_known_file_download/1026124511\n",
      "http://api.brain-map.org//api/v2/well_known_file_download/1026125023\n",
      "http://api.brain-map.org//api/v2/well_known_file_download/1026125027\n",
      "http://api.brain-map.org//api/v2/well_known_file_download/1026125025\n",
      "http://api.brain-map.org//api/v2/well_known_file_download/1026125029\n",
      "http://api.brain-map.org//api/v2/well_known_file_download/1026125031\n",
      "http://api.brain-map.org//api/v2/well_known_file_download/1026125034\n"
     ]
    }
   ],
   "source": [
    "Filtered_probes = probes[[ID in Filtered_sessions.index.values for ID in probes.ecephys_session_id]]\n",
    "def retrieve_lfp_link(probe_id):\n",
    "\n",
    "    well_known_files = build_and_execute(\n",
    "        (\n",
    "            \"criteria=model::WellKnownFile\"\n",
    "            \",rma::criteria,well_known_file_type[name$eq'EcephysLfpNwb']\"\n",
    "            \"[attachable_type$eq'EcephysProbe']\"\n",
    "            r\"[attachable_id$eq{{probe_id}}]\"\n",
    "        ),\n",
    "        engine=rma_engine.get_rma_tabular, \n",
    "        probe_id=probe_id\n",
    "    )\n",
    "\n",
    "    if well_known_files.shape[0] != 1:\n",
    "        return 'file for probe ' + str(probe_id) + ' not found'\n",
    "        \n",
    "    return 'http://api.brain-map.org/' + well_known_files.loc[0, \"download_link\"]\n",
    "\n",
    "probes = cache.get_probes()\n",
    "\n",
    "download_links = [retrieve_lfp_link(probe_id) for probe_id in Filtered_probes.index.values]\n",
    "\n",
    "_ = [print(link) for link in download_links]"
   ]
  },
  {
   "cell_type": "markdown",
   "metadata": {},
   "source": [
    "#### Read  the LFP names and find their target animals"
   ]
  },
  {
   "cell_type": "code",
   "execution_count": 119,
   "metadata": {},
   "outputs": [],
   "source": [
    "LFP_directory = \"E:\\Elham\\Data\\AllenBrain\\example_ecephys_project_cache\\LFP\""
   ]
  },
  {
   "cell_type": "code",
   "execution_count": 120,
   "metadata": {},
   "outputs": [],
   "source": [
    "LFP_list = os.listdir(LFP_directory)"
   ]
  },
  {
   "cell_type": "code",
   "execution_count": 121,
   "metadata": {},
   "outputs": [],
   "source": [
    "probe_ids = [int(x.split('_')[1]) for x in LFP_list]"
   ]
  },
  {
   "cell_type": "code",
   "execution_count": 122,
   "metadata": {},
   "outputs": [],
   "source": [
    "probe_session = probes.loc[np.array(probe_ids),'ecephys_session_id'].to_frame().reset_index()"
   ]
  },
  {
   "cell_type": "markdown",
   "metadata": {},
   "source": [
    "copy the LFP files in their target directory"
   ]
  },
  {
   "cell_type": "code",
   "execution_count": null,
   "metadata": {},
   "outputs": [],
   "source": [
    "for i in range(0,len(probe_session)):\n",
    "    #print(i)\n",
    "    copyLFP(probe_session.ecephys_session_id[i],probe_session.id[i],LFP_directory,data_directory,False)"
   ]
  },
  {
   "cell_type": "code",
   "execution_count": 116,
   "metadata": {},
   "outputs": [],
   "source": [
    "def copyLFP(session_id,probe_id,sourcepath,targetpath,replace):\n",
    "    \n",
    "    # 1) check if folder exist\n",
    "    foldname = 'session_'+str(session_id)\n",
    "    session = os.listdir(targetpath)\n",
    "    if not foldname in os.listdir(targetpath):\n",
    "        os.mkdir(os.path.join(targetpath,foldname))       \n",
    "    \n",
    "    # 2) check if the file exist\n",
    "    filename = 'probe_'+ str(probe_id) +'_lfp.nwb'\n",
    "    if not filename in os.listdir(os.path.join(targetpath,foldname)):\n",
    "        shutil.copyfile(os.path.join(sourcepath,filename),os.path.join(targetpath,foldname,filename))\n",
    "    else:\n",
    "        if replace:\n",
    "             shutil.copyfile(os.path.join(sourcepath,filename),os.path.join(targetpath,foldname,filename))   \n",
    "    return True"
   ]
  },
  {
   "cell_type": "code",
   "execution_count": null,
   "metadata": {},
   "outputs": [],
   "source": []
  }
 ],
 "metadata": {
  "kernelspec": {
   "display_name": "Python 3",
   "language": "python",
   "name": "python3"
  },
  "language_info": {
   "codemirror_mode": {
    "name": "ipython",
    "version": 3
   },
   "file_extension": ".py",
   "mimetype": "text/x-python",
   "name": "python",
   "nbconvert_exporter": "python",
   "pygments_lexer": "ipython3",
   "version": "3.7.3"
  }
 },
 "nbformat": 4,
 "nbformat_minor": 2
}
